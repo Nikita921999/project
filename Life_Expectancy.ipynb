{
  "nbformat": 4,
  "nbformat_minor": 0,
  "metadata": {
    "colab": {
      "provenance": [],
      "authorship_tag": "ABX9TyNP3gJcmpRHz6vQC/rvyoW6",
      "include_colab_link": true
    },
    "kernelspec": {
      "name": "python3",
      "display_name": "Python 3"
    },
    "language_info": {
      "name": "python"
    }
  },
  "cells": [
    {
      "cell_type": "markdown",
      "metadata": {
        "id": "view-in-github",
        "colab_type": "text"
      },
      "source": [
        "<a href=\"https://colab.research.google.com/github/Nikita921999/project/blob/main/Life_Expectancy.ipynb\" target=\"_parent\"><img src=\"https://colab.research.google.com/assets/colab-badge.svg\" alt=\"Open In Colab\"/></a>"
      ]
    },
    {
      "cell_type": "markdown",
      "source": [
        "Importing the Dependencies"
      ],
      "metadata": {
        "id": "Nbe4M1i5h5YC"
      }
    },
    {
      "cell_type": "code",
      "source": [
        "import numpy as np\n",
        "import pandas as pd\n",
        "import matplotlib.pyplot as plt\n",
        "import seaborn as sns\n",
        "from sklearn.preprocessing import OneHotEncoder\n",
        "from sklearn.preprocessing import OrdinalEncoder\n",
        "from sklearn.compose import ColumnTransformer\n",
        "from sklearn.model_selection import train_test_split\n",
        "from sklearn.linear_model import LinearRegression\n",
        "from sklearn import metrics"
      ],
      "metadata": {
        "id": "j1QRBHJQh7x2"
      },
      "execution_count": 1,
      "outputs": []
    },
    {
      "cell_type": "markdown",
      "source": [
        "Data Collection and Analysis"
      ],
      "metadata": {
        "id": "oimTpIrUh_lF"
      }
    },
    {
      "cell_type": "code",
      "source": [
        "#loading the data from csv file to pandas DataFrame\n",
        "deadpeople_dataset = pd.read_csv('/content/deadpeople_new.csv')"
      ],
      "metadata": {
        "id": "Ckqg9aiMiD9T"
      },
      "execution_count": 2,
      "outputs": []
    },
    {
      "cell_type": "code",
      "source": [
        "#print first five rows of DataFrame\n",
        "deadpeople_dataset.head()"
      ],
      "metadata": {
        "colab": {
          "base_uri": "https://localhost:8080/",
          "height": 374
        },
        "id": "RnyEobmciMp_",
        "outputId": "f1165bea-de5e-4861-9a81-b64a96726d68"
      },
      "execution_count": 3,
      "outputs": [
        {
          "output_type": "execute_result",
          "data": {
            "text/plain": [
              "                  Name  Gender  Height  Weight Smoking Alcohol Diabetes  \\\n",
              "0           Vicky Gope    Male   159.0    54.0      No      No       No   \n",
              "1       Late Adit Gope    Male   150.0    50.0      No      No       No   \n",
              "2  Late Mangra Kachhap    Male   165.0    55.0     Yes     Yes       No   \n",
              "3        Paate Kachhap    Male   160.0    55.0     Yes     Yes       No   \n",
              "4      Late Cibi Oraon  Female   150.0    45.0      No     Yes       No   \n",
              "\n",
              "  Heart_Disease Blood_Pressure Driving_Habit Chronic_disease_history  \\\n",
              "0            No             No          Good                    None   \n",
              "1            No             No   Don't drive                    None   \n",
              "2            No            Yes   Don't drive          Blood Pressure   \n",
              "3            No            Yes          Good          Blood Pressure   \n",
              "4            No             No   Don't drive                    None   \n",
              "\n",
              "  Sleeping_Hours      Food_habit Physical_Activity        Environment  \\\n",
              "0    8 to 10 hrs  Non-Vegeterian       No activity  Clean environment   \n",
              "1     6 to 8 hrs  Non-Vegeterian       No activity  Clean environment   \n",
              "2     6 to 8 hrs  Non-Vegeterian             2 hrs  Clean environment   \n",
              "3     6 to 8 hrs  Non-Vegeterian             2 hrs  Clean environment   \n",
              "4    8 to 10 hrs  Non-Vegeterian             2 hrs  Clean environment   \n",
              "\n",
              "  Personality Stress_measure  Age  \n",
              "0   Introvert         Medium   80  \n",
              "1   Extrovert            Low   18  \n",
              "2   Extrovert         Medium   50  \n",
              "3   Extrovert         Medium   53  \n",
              "4   Extrovert            Low   90  "
            ],
            "text/html": [
              "\n",
              "  <div id=\"df-27aafd44-4f40-4871-a0a9-2fedd1696cad\">\n",
              "    <div class=\"colab-df-container\">\n",
              "      <div>\n",
              "<style scoped>\n",
              "    .dataframe tbody tr th:only-of-type {\n",
              "        vertical-align: middle;\n",
              "    }\n",
              "\n",
              "    .dataframe tbody tr th {\n",
              "        vertical-align: top;\n",
              "    }\n",
              "\n",
              "    .dataframe thead th {\n",
              "        text-align: right;\n",
              "    }\n",
              "</style>\n",
              "<table border=\"1\" class=\"dataframe\">\n",
              "  <thead>\n",
              "    <tr style=\"text-align: right;\">\n",
              "      <th></th>\n",
              "      <th>Name</th>\n",
              "      <th>Gender</th>\n",
              "      <th>Height</th>\n",
              "      <th>Weight</th>\n",
              "      <th>Smoking</th>\n",
              "      <th>Alcohol</th>\n",
              "      <th>Diabetes</th>\n",
              "      <th>Heart_Disease</th>\n",
              "      <th>Blood_Pressure</th>\n",
              "      <th>Driving_Habit</th>\n",
              "      <th>Chronic_disease_history</th>\n",
              "      <th>Sleeping_Hours</th>\n",
              "      <th>Food_habit</th>\n",
              "      <th>Physical_Activity</th>\n",
              "      <th>Environment</th>\n",
              "      <th>Personality</th>\n",
              "      <th>Stress_measure</th>\n",
              "      <th>Age</th>\n",
              "    </tr>\n",
              "  </thead>\n",
              "  <tbody>\n",
              "    <tr>\n",
              "      <th>0</th>\n",
              "      <td>Vicky Gope</td>\n",
              "      <td>Male</td>\n",
              "      <td>159.0</td>\n",
              "      <td>54.0</td>\n",
              "      <td>No</td>\n",
              "      <td>No</td>\n",
              "      <td>No</td>\n",
              "      <td>No</td>\n",
              "      <td>No</td>\n",
              "      <td>Good</td>\n",
              "      <td>None</td>\n",
              "      <td>8 to 10 hrs</td>\n",
              "      <td>Non-Vegeterian</td>\n",
              "      <td>No activity</td>\n",
              "      <td>Clean environment</td>\n",
              "      <td>Introvert</td>\n",
              "      <td>Medium</td>\n",
              "      <td>80</td>\n",
              "    </tr>\n",
              "    <tr>\n",
              "      <th>1</th>\n",
              "      <td>Late Adit Gope</td>\n",
              "      <td>Male</td>\n",
              "      <td>150.0</td>\n",
              "      <td>50.0</td>\n",
              "      <td>No</td>\n",
              "      <td>No</td>\n",
              "      <td>No</td>\n",
              "      <td>No</td>\n",
              "      <td>No</td>\n",
              "      <td>Don't drive</td>\n",
              "      <td>None</td>\n",
              "      <td>6 to 8 hrs</td>\n",
              "      <td>Non-Vegeterian</td>\n",
              "      <td>No activity</td>\n",
              "      <td>Clean environment</td>\n",
              "      <td>Extrovert</td>\n",
              "      <td>Low</td>\n",
              "      <td>18</td>\n",
              "    </tr>\n",
              "    <tr>\n",
              "      <th>2</th>\n",
              "      <td>Late Mangra Kachhap</td>\n",
              "      <td>Male</td>\n",
              "      <td>165.0</td>\n",
              "      <td>55.0</td>\n",
              "      <td>Yes</td>\n",
              "      <td>Yes</td>\n",
              "      <td>No</td>\n",
              "      <td>No</td>\n",
              "      <td>Yes</td>\n",
              "      <td>Don't drive</td>\n",
              "      <td>Blood Pressure</td>\n",
              "      <td>6 to 8 hrs</td>\n",
              "      <td>Non-Vegeterian</td>\n",
              "      <td>2 hrs</td>\n",
              "      <td>Clean environment</td>\n",
              "      <td>Extrovert</td>\n",
              "      <td>Medium</td>\n",
              "      <td>50</td>\n",
              "    </tr>\n",
              "    <tr>\n",
              "      <th>3</th>\n",
              "      <td>Paate Kachhap</td>\n",
              "      <td>Male</td>\n",
              "      <td>160.0</td>\n",
              "      <td>55.0</td>\n",
              "      <td>Yes</td>\n",
              "      <td>Yes</td>\n",
              "      <td>No</td>\n",
              "      <td>No</td>\n",
              "      <td>Yes</td>\n",
              "      <td>Good</td>\n",
              "      <td>Blood Pressure</td>\n",
              "      <td>6 to 8 hrs</td>\n",
              "      <td>Non-Vegeterian</td>\n",
              "      <td>2 hrs</td>\n",
              "      <td>Clean environment</td>\n",
              "      <td>Extrovert</td>\n",
              "      <td>Medium</td>\n",
              "      <td>53</td>\n",
              "    </tr>\n",
              "    <tr>\n",
              "      <th>4</th>\n",
              "      <td>Late Cibi Oraon</td>\n",
              "      <td>Female</td>\n",
              "      <td>150.0</td>\n",
              "      <td>45.0</td>\n",
              "      <td>No</td>\n",
              "      <td>Yes</td>\n",
              "      <td>No</td>\n",
              "      <td>No</td>\n",
              "      <td>No</td>\n",
              "      <td>Don't drive</td>\n",
              "      <td>None</td>\n",
              "      <td>8 to 10 hrs</td>\n",
              "      <td>Non-Vegeterian</td>\n",
              "      <td>2 hrs</td>\n",
              "      <td>Clean environment</td>\n",
              "      <td>Extrovert</td>\n",
              "      <td>Low</td>\n",
              "      <td>90</td>\n",
              "    </tr>\n",
              "  </tbody>\n",
              "</table>\n",
              "</div>\n",
              "      <button class=\"colab-df-convert\" onclick=\"convertToInteractive('df-27aafd44-4f40-4871-a0a9-2fedd1696cad')\"\n",
              "              title=\"Convert this dataframe to an interactive table.\"\n",
              "              style=\"display:none;\">\n",
              "        \n",
              "  <svg xmlns=\"http://www.w3.org/2000/svg\" height=\"24px\"viewBox=\"0 0 24 24\"\n",
              "       width=\"24px\">\n",
              "    <path d=\"M0 0h24v24H0V0z\" fill=\"none\"/>\n",
              "    <path d=\"M18.56 5.44l.94 2.06.94-2.06 2.06-.94-2.06-.94-.94-2.06-.94 2.06-2.06.94zm-11 1L8.5 8.5l.94-2.06 2.06-.94-2.06-.94L8.5 2.5l-.94 2.06-2.06.94zm10 10l.94 2.06.94-2.06 2.06-.94-2.06-.94-.94-2.06-.94 2.06-2.06.94z\"/><path d=\"M17.41 7.96l-1.37-1.37c-.4-.4-.92-.59-1.43-.59-.52 0-1.04.2-1.43.59L10.3 9.45l-7.72 7.72c-.78.78-.78 2.05 0 2.83L4 21.41c.39.39.9.59 1.41.59.51 0 1.02-.2 1.41-.59l7.78-7.78 2.81-2.81c.8-.78.8-2.07 0-2.86zM5.41 20L4 18.59l7.72-7.72 1.47 1.35L5.41 20z\"/>\n",
              "  </svg>\n",
              "      </button>\n",
              "      \n",
              "  <style>\n",
              "    .colab-df-container {\n",
              "      display:flex;\n",
              "      flex-wrap:wrap;\n",
              "      gap: 12px;\n",
              "    }\n",
              "\n",
              "    .colab-df-convert {\n",
              "      background-color: #E8F0FE;\n",
              "      border: none;\n",
              "      border-radius: 50%;\n",
              "      cursor: pointer;\n",
              "      display: none;\n",
              "      fill: #1967D2;\n",
              "      height: 32px;\n",
              "      padding: 0 0 0 0;\n",
              "      width: 32px;\n",
              "    }\n",
              "\n",
              "    .colab-df-convert:hover {\n",
              "      background-color: #E2EBFA;\n",
              "      box-shadow: 0px 1px 2px rgba(60, 64, 67, 0.3), 0px 1px 3px 1px rgba(60, 64, 67, 0.15);\n",
              "      fill: #174EA6;\n",
              "    }\n",
              "\n",
              "    [theme=dark] .colab-df-convert {\n",
              "      background-color: #3B4455;\n",
              "      fill: #D2E3FC;\n",
              "    }\n",
              "\n",
              "    [theme=dark] .colab-df-convert:hover {\n",
              "      background-color: #434B5C;\n",
              "      box-shadow: 0px 1px 3px 1px rgba(0, 0, 0, 0.15);\n",
              "      filter: drop-shadow(0px 1px 2px rgba(0, 0, 0, 0.3));\n",
              "      fill: #FFFFFF;\n",
              "    }\n",
              "  </style>\n",
              "\n",
              "      <script>\n",
              "        const buttonEl =\n",
              "          document.querySelector('#df-27aafd44-4f40-4871-a0a9-2fedd1696cad button.colab-df-convert');\n",
              "        buttonEl.style.display =\n",
              "          google.colab.kernel.accessAllowed ? 'block' : 'none';\n",
              "\n",
              "        async function convertToInteractive(key) {\n",
              "          const element = document.querySelector('#df-27aafd44-4f40-4871-a0a9-2fedd1696cad');\n",
              "          const dataTable =\n",
              "            await google.colab.kernel.invokeFunction('convertToInteractive',\n",
              "                                                     [key], {});\n",
              "          if (!dataTable) return;\n",
              "\n",
              "          const docLinkHtml = 'Like what you see? Visit the ' +\n",
              "            '<a target=\"_blank\" href=https://colab.research.google.com/notebooks/data_table.ipynb>data table notebook</a>'\n",
              "            + ' to learn more about interactive tables.';\n",
              "          element.innerHTML = '';\n",
              "          dataTable['output_type'] = 'display_data';\n",
              "          await google.colab.output.renderOutput(dataTable, element);\n",
              "          const docLink = document.createElement('div');\n",
              "          docLink.innerHTML = docLinkHtml;\n",
              "          element.appendChild(docLink);\n",
              "        }\n",
              "      </script>\n",
              "    </div>\n",
              "  </div>\n",
              "  "
            ]
          },
          "metadata": {},
          "execution_count": 3
        }
      ]
    },
    {
      "cell_type": "code",
      "source": [
        "#number of rows and columns\n",
        "deadpeople_dataset.shape"
      ],
      "metadata": {
        "colab": {
          "base_uri": "https://localhost:8080/"
        },
        "id": "vmUWALqOjLJ8",
        "outputId": "f5739420-59c3-4789-dab5-3d9560e448af"
      },
      "execution_count": 4,
      "outputs": [
        {
          "output_type": "execute_result",
          "data": {
            "text/plain": [
              "(90, 18)"
            ]
          },
          "metadata": {},
          "execution_count": 4
        }
      ]
    },
    {
      "cell_type": "code",
      "source": [
        "#getting some information about the dataset\n",
        "deadpeople_dataset.info()"
      ],
      "metadata": {
        "colab": {
          "base_uri": "https://localhost:8080/"
        },
        "id": "oRmdciVRjOD-",
        "outputId": "0d1a96ad-f692-4f74-ebf0-4ffe1c008165"
      },
      "execution_count": 5,
      "outputs": [
        {
          "output_type": "stream",
          "name": "stdout",
          "text": [
            "<class 'pandas.core.frame.DataFrame'>\n",
            "RangeIndex: 90 entries, 0 to 89\n",
            "Data columns (total 18 columns):\n",
            " #   Column                   Non-Null Count  Dtype  \n",
            "---  ------                   --------------  -----  \n",
            " 0   Name                     90 non-null     object \n",
            " 1   Gender                   90 non-null     object \n",
            " 2   Height                   90 non-null     float64\n",
            " 3   Weight                   90 non-null     float64\n",
            " 4   Smoking                  90 non-null     object \n",
            " 5   Alcohol                  90 non-null     object \n",
            " 6   Diabetes                 90 non-null     object \n",
            " 7   Heart_Disease            90 non-null     object \n",
            " 8   Blood_Pressure           90 non-null     object \n",
            " 9   Driving_Habit            90 non-null     object \n",
            " 10  Chronic_disease_history  90 non-null     object \n",
            " 11  Sleeping_Hours           90 non-null     object \n",
            " 12  Food_habit               90 non-null     object \n",
            " 13  Physical_Activity        90 non-null     object \n",
            " 14  Environment              90 non-null     object \n",
            " 15  Personality              90 non-null     object \n",
            " 16  Stress_measure           90 non-null     object \n",
            " 17  Age                      90 non-null     int64  \n",
            "dtypes: float64(2), int64(1), object(15)\n",
            "memory usage: 12.8+ KB\n"
          ]
        }
      ]
    },
    {
      "cell_type": "markdown",
      "source": [
        "Categorical Features: \n",
        "-Name\n",
        "-Gender\n",
        "-Smoking\n",
        "-Alcohol\n",
        "-Diabetes\n",
        "-Heart Disease\n",
        "-Blood Pressure\n",
        "-Driving Habit\n",
        "-Chronic Disease History\n",
        "-Sleeping Hours\n",
        "-Food Habit\n",
        "-Physical Activity\n",
        "-Environment\n",
        "-Personality\n",
        "-Stress level"
      ],
      "metadata": {
        "id": "-2qDkYdijei7"
      }
    },
    {
      "cell_type": "code",
      "source": [
        "#checking for missing values\n",
        "deadpeople_dataset.isnull().sum()"
      ],
      "metadata": {
        "colab": {
          "base_uri": "https://localhost:8080/"
        },
        "id": "aMHKUhnSkBwM",
        "outputId": "ab60ac3c-bbac-49a4-b37b-39affcea9e2e"
      },
      "execution_count": 9,
      "outputs": [
        {
          "output_type": "execute_result",
          "data": {
            "text/plain": [
              "Name                       0\n",
              "Gender                     0\n",
              "Height                     0\n",
              "Weight                     0\n",
              "Smoking                    0\n",
              "Alcohol                    0\n",
              "Diabetes                   0\n",
              "Heart_Disease              0\n",
              "Blood_Pressure             0\n",
              "Driving_Habit              0\n",
              "Chronic_disease_history    0\n",
              "Sleeping_Hours             0\n",
              "Food_habit                 0\n",
              "Physical_Activity          0\n",
              "Environment                0\n",
              "Personality                0\n",
              "Stress_measure             0\n",
              "Age                        0\n",
              "dtype: int64"
            ]
          },
          "metadata": {},
          "execution_count": 9
        }
      ]
    },
    {
      "cell_type": "markdown",
      "source": [
        "Data Analysis\n",
        "\n"
      ],
      "metadata": {
        "id": "nYuGeSRqkLXr"
      }
    },
    {
      "cell_type": "code",
      "source": [
        "#statistical measures of the dataset\n",
        "deadpeople_dataset.describe()"
      ],
      "metadata": {
        "colab": {
          "base_uri": "https://localhost:8080/",
          "height": 300
        },
        "id": "wYu7n9NbjiJD",
        "outputId": "e4136f88-9e77-432d-bbbb-d285a39f6254"
      },
      "execution_count": 10,
      "outputs": [
        {
          "output_type": "execute_result",
          "data": {
            "text/plain": [
              "           Height      Weight        Age\n",
              "count   90.000000   90.000000  90.000000\n",
              "mean   163.721778   63.733333  68.011111\n",
              "std     10.470214   14.275846  15.832334\n",
              "min    140.000000   42.000000  18.000000\n",
              "25%    155.000000   52.725000  60.500000\n",
              "50%    162.000000   61.000000  71.000000\n",
              "75%    170.000000   70.000000  79.000000\n",
              "max    190.000000  102.000000  90.000000"
            ],
            "text/html": [
              "\n",
              "  <div id=\"df-316bacff-8c39-4feb-9a21-641d4472c226\">\n",
              "    <div class=\"colab-df-container\">\n",
              "      <div>\n",
              "<style scoped>\n",
              "    .dataframe tbody tr th:only-of-type {\n",
              "        vertical-align: middle;\n",
              "    }\n",
              "\n",
              "    .dataframe tbody tr th {\n",
              "        vertical-align: top;\n",
              "    }\n",
              "\n",
              "    .dataframe thead th {\n",
              "        text-align: right;\n",
              "    }\n",
              "</style>\n",
              "<table border=\"1\" class=\"dataframe\">\n",
              "  <thead>\n",
              "    <tr style=\"text-align: right;\">\n",
              "      <th></th>\n",
              "      <th>Height</th>\n",
              "      <th>Weight</th>\n",
              "      <th>Age</th>\n",
              "    </tr>\n",
              "  </thead>\n",
              "  <tbody>\n",
              "    <tr>\n",
              "      <th>count</th>\n",
              "      <td>90.000000</td>\n",
              "      <td>90.000000</td>\n",
              "      <td>90.000000</td>\n",
              "    </tr>\n",
              "    <tr>\n",
              "      <th>mean</th>\n",
              "      <td>163.721778</td>\n",
              "      <td>63.733333</td>\n",
              "      <td>68.011111</td>\n",
              "    </tr>\n",
              "    <tr>\n",
              "      <th>std</th>\n",
              "      <td>10.470214</td>\n",
              "      <td>14.275846</td>\n",
              "      <td>15.832334</td>\n",
              "    </tr>\n",
              "    <tr>\n",
              "      <th>min</th>\n",
              "      <td>140.000000</td>\n",
              "      <td>42.000000</td>\n",
              "      <td>18.000000</td>\n",
              "    </tr>\n",
              "    <tr>\n",
              "      <th>25%</th>\n",
              "      <td>155.000000</td>\n",
              "      <td>52.725000</td>\n",
              "      <td>60.500000</td>\n",
              "    </tr>\n",
              "    <tr>\n",
              "      <th>50%</th>\n",
              "      <td>162.000000</td>\n",
              "      <td>61.000000</td>\n",
              "      <td>71.000000</td>\n",
              "    </tr>\n",
              "    <tr>\n",
              "      <th>75%</th>\n",
              "      <td>170.000000</td>\n",
              "      <td>70.000000</td>\n",
              "      <td>79.000000</td>\n",
              "    </tr>\n",
              "    <tr>\n",
              "      <th>max</th>\n",
              "      <td>190.000000</td>\n",
              "      <td>102.000000</td>\n",
              "      <td>90.000000</td>\n",
              "    </tr>\n",
              "  </tbody>\n",
              "</table>\n",
              "</div>\n",
              "      <button class=\"colab-df-convert\" onclick=\"convertToInteractive('df-316bacff-8c39-4feb-9a21-641d4472c226')\"\n",
              "              title=\"Convert this dataframe to an interactive table.\"\n",
              "              style=\"display:none;\">\n",
              "        \n",
              "  <svg xmlns=\"http://www.w3.org/2000/svg\" height=\"24px\"viewBox=\"0 0 24 24\"\n",
              "       width=\"24px\">\n",
              "    <path d=\"M0 0h24v24H0V0z\" fill=\"none\"/>\n",
              "    <path d=\"M18.56 5.44l.94 2.06.94-2.06 2.06-.94-2.06-.94-.94-2.06-.94 2.06-2.06.94zm-11 1L8.5 8.5l.94-2.06 2.06-.94-2.06-.94L8.5 2.5l-.94 2.06-2.06.94zm10 10l.94 2.06.94-2.06 2.06-.94-2.06-.94-.94-2.06-.94 2.06-2.06.94z\"/><path d=\"M17.41 7.96l-1.37-1.37c-.4-.4-.92-.59-1.43-.59-.52 0-1.04.2-1.43.59L10.3 9.45l-7.72 7.72c-.78.78-.78 2.05 0 2.83L4 21.41c.39.39.9.59 1.41.59.51 0 1.02-.2 1.41-.59l7.78-7.78 2.81-2.81c.8-.78.8-2.07 0-2.86zM5.41 20L4 18.59l7.72-7.72 1.47 1.35L5.41 20z\"/>\n",
              "  </svg>\n",
              "      </button>\n",
              "      \n",
              "  <style>\n",
              "    .colab-df-container {\n",
              "      display:flex;\n",
              "      flex-wrap:wrap;\n",
              "      gap: 12px;\n",
              "    }\n",
              "\n",
              "    .colab-df-convert {\n",
              "      background-color: #E8F0FE;\n",
              "      border: none;\n",
              "      border-radius: 50%;\n",
              "      cursor: pointer;\n",
              "      display: none;\n",
              "      fill: #1967D2;\n",
              "      height: 32px;\n",
              "      padding: 0 0 0 0;\n",
              "      width: 32px;\n",
              "    }\n",
              "\n",
              "    .colab-df-convert:hover {\n",
              "      background-color: #E2EBFA;\n",
              "      box-shadow: 0px 1px 2px rgba(60, 64, 67, 0.3), 0px 1px 3px 1px rgba(60, 64, 67, 0.15);\n",
              "      fill: #174EA6;\n",
              "    }\n",
              "\n",
              "    [theme=dark] .colab-df-convert {\n",
              "      background-color: #3B4455;\n",
              "      fill: #D2E3FC;\n",
              "    }\n",
              "\n",
              "    [theme=dark] .colab-df-convert:hover {\n",
              "      background-color: #434B5C;\n",
              "      box-shadow: 0px 1px 3px 1px rgba(0, 0, 0, 0.15);\n",
              "      filter: drop-shadow(0px 1px 2px rgba(0, 0, 0, 0.3));\n",
              "      fill: #FFFFFF;\n",
              "    }\n",
              "  </style>\n",
              "\n",
              "      <script>\n",
              "        const buttonEl =\n",
              "          document.querySelector('#df-316bacff-8c39-4feb-9a21-641d4472c226 button.colab-df-convert');\n",
              "        buttonEl.style.display =\n",
              "          google.colab.kernel.accessAllowed ? 'block' : 'none';\n",
              "\n",
              "        async function convertToInteractive(key) {\n",
              "          const element = document.querySelector('#df-316bacff-8c39-4feb-9a21-641d4472c226');\n",
              "          const dataTable =\n",
              "            await google.colab.kernel.invokeFunction('convertToInteractive',\n",
              "                                                     [key], {});\n",
              "          if (!dataTable) return;\n",
              "\n",
              "          const docLinkHtml = 'Like what you see? Visit the ' +\n",
              "            '<a target=\"_blank\" href=https://colab.research.google.com/notebooks/data_table.ipynb>data table notebook</a>'\n",
              "            + ' to learn more about interactive tables.';\n",
              "          element.innerHTML = '';\n",
              "          dataTable['output_type'] = 'display_data';\n",
              "          await google.colab.output.renderOutput(dataTable, element);\n",
              "          const docLink = document.createElement('div');\n",
              "          docLink.innerHTML = docLinkHtml;\n",
              "          element.appendChild(docLink);\n",
              "        }\n",
              "      </script>\n",
              "    </div>\n",
              "  </div>\n",
              "  "
            ]
          },
          "metadata": {},
          "execution_count": 10
        }
      ]
    },
    {
      "cell_type": "code",
      "source": [
        "#distribution of age value\n",
        "sns.set()\n",
        "plt.figure(figsize=(6,6))\n",
        "sns.distplot(deadpeople_dataset['Age'])\n",
        "plt.title('Age Distribution')\n",
        "plt.show()"
      ],
      "metadata": {
        "colab": {
          "base_uri": "https://localhost:8080/",
          "height": 465
        },
        "id": "HGtggux8kYu7",
        "outputId": "6c680362-6830-4dfd-a2c5-b29b904b1f26"
      },
      "execution_count": 11,
      "outputs": [
        {
          "output_type": "stream",
          "name": "stderr",
          "text": [
            "/usr/local/lib/python3.8/dist-packages/seaborn/distributions.py:2619: FutureWarning: `distplot` is a deprecated function and will be removed in a future version. Please adapt your code to use either `displot` (a figure-level function with similar flexibility) or `histplot` (an axes-level function for histograms).\n",
            "  warnings.warn(msg, FutureWarning)\n"
          ]
        },
        {
          "output_type": "display_data",
          "data": {
            "text/plain": [
              "<Figure size 432x432 with 1 Axes>"
            ],
            "image/png": "[encoded data removed]"
          },
          "metadata": {}
        }
      ]
    },
    {
      "cell_type": "code",
      "source": [
        "#distribution of height value\n",
        "plt.figure(figsize=(6,6))\n",
        "sns.distplot(deadpeople_dataset['Height'])\n",
        "plt.title('Height Distribution')\n",
        "plt.show()"
      ],
      "metadata": {
        "colab": {
          "base_uri": "https://localhost:8080/",
          "height": 465
        },
        "id": "GxwSmFT4kkS3",
        "outputId": "b30816ba-293f-4a70-cb41-fa1c0906e334"
      },
      "execution_count": 12,
      "outputs": [
        {
          "output_type": "stream",
          "name": "stderr",
          "text": [
            "/usr/local/lib/python3.8/dist-packages/seaborn/distributions.py:2619: FutureWarning: `distplot` is a deprecated function and will be removed in a future version. Please adapt your code to use either `displot` (a figure-level function with similar flexibility) or `histplot` (an axes-level function for histograms).\n",
            "  warnings.warn(msg, FutureWarning)\n"
          ]
        },
        {
          "output_type": "display_data",
          "data": {
            "text/plain": [
              "<Figure size 432x432 with 1 Axes>"
            ],
            "image/png": "[encoded data removed]"
          },
          "metadata": {}
        }
      ]
    },
    {
      "cell_type": "code",
      "source": [
        "#distribution of weight value\n",
        "plt.figure(figsize=(6,6))\n",
        "sns.distplot(deadpeople_dataset['Weight'])\n",
        "plt.title('Weight Distribution')\n",
        "plt.show()"
      ],
      "metadata": {
        "colab": {
          "base_uri": "https://localhost:8080/",
          "height": 465
        },
        "id": "2psPpZJGk4Pj",
        "outputId": "39f34f11-10e0-49fa-f330-358f4ea0788d"
      },
      "execution_count": 13,
      "outputs": [
        {
          "output_type": "stream",
          "name": "stderr",
          "text": [
            "/usr/local/lib/python3.8/dist-packages/seaborn/distributions.py:2619: FutureWarning: `distplot` is a deprecated function and will be removed in a future version. Please adapt your code to use either `displot` (a figure-level function with similar flexibility) or `histplot` (an axes-level function for histograms).\n",
            "  warnings.warn(msg, FutureWarning)\n"
          ]
        },
        {
          "output_type": "display_data",
          "data": {
            "text/plain": [
              "<Figure size 432x432 with 1 Axes>"
            ],
            "image/png": "[encoded data removed]"
          },
          "metadata": {}
        }
      ]
    },
    {
      "cell_type": "code",
      "source": [
        "#Distribution of Gender column\n",
        "plt.figure(figsize=(6,6))\n",
        "sns.countplot(x='Gender',data=deadpeople_dataset)\n",
        "plt.title('Gender Distribution')\n",
        "plt.show()"
      ],
      "metadata": {
        "colab": {
          "base_uri": "https://localhost:8080/",
          "height": 410
        },
        "id": "h0HtWUgBmtR0",
        "outputId": "e5b51765-14dd-46d1-c26a-943f7511dd6b"
      },
      "execution_count": 14,
      "outputs": [
        {
          "output_type": "display_data",
          "data": {
            "text/plain": [
              "<Figure size 432x432 with 1 Axes>"
            ],
            "image/png": "[encoded data removed]"
          },
          "metadata": {}
        }
      ]
    },
    {
      "cell_type": "code",
      "source": [
        "deadpeople_dataset['Gender'].value_counts()"
      ],
      "metadata": {
        "colab": {
          "base_uri": "https://localhost:8080/"
        },
        "id": "Y08EQGf5nLzF",
        "outputId": "0a705882-8454-4248-bd40-4f5838b99a6a"
      },
      "execution_count": 15,
      "outputs": [
        {
          "output_type": "execute_result",
          "data": {
            "text/plain": [
              "Male      62\n",
              "Female    28\n",
              "Name: Gender, dtype: int64"
            ]
          },
          "metadata": {},
          "execution_count": 15
        }
      ]
    },
    {
      "cell_type": "code",
      "source": [
        "#Distribution of Smoking column\n",
        "plt.figure(figsize=(6,6))\n",
        "sns.countplot(x='Smoking',data=deadpeople_dataset)\n",
        "plt.title('Smoking Distribution')\n",
        "plt.show()"
      ],
      "metadata": {
        "colab": {
          "base_uri": "https://localhost:8080/",
          "height": 410
        },
        "id": "QLXpBMRLnVlk",
        "outputId": "42b9c481-3fe0-4164-c910-ec5b8db46c32"
      },
      "execution_count": 16,
      "outputs": [
        {
          "output_type": "display_data",
          "data": {
            "text/plain": [
              "<Figure size 432x432 with 1 Axes>"
            ],
            "image/png": "[encoded data removed]"
          },
          "metadata": {}
        }
      ]
    },
    {
      "cell_type": "code",
      "source": [
        "deadpeople_dataset['Smoking'].value_counts()"
      ],
      "metadata": {
        "colab": {
          "base_uri": "https://localhost:8080/"
        },
        "id": "boyRJxxXni36",
        "outputId": "1a26d3ac-3254-4b93-f59d-4dc6979c4779"
      },
      "execution_count": 17,
      "outputs": [
        {
          "output_type": "execute_result",
          "data": {
            "text/plain": [
              "No     71\n",
              "Yes    19\n",
              "Name: Smoking, dtype: int64"
            ]
          },
          "metadata": {},
          "execution_count": 17
        }
      ]
    },
    {
      "cell_type": "code",
      "source": [
        "#Distribution of Alcohol column\n",
        "plt.figure(figsize=(6,6))\n",
        "sns.countplot(x='Alcohol',data=deadpeople_dataset)\n",
        "plt.title('Alcohol Consumption Distribution')\n",
        "plt.show()"
      ],
      "metadata": {
        "colab": {
          "base_uri": "https://localhost:8080/",
          "height": 410
        },
        "id": "_Eyl-ttknpU3",
        "outputId": "07f52fa3-b54d-43fb-bbf0-ef2d0571b364"
      },
      "execution_count": 18,
      "outputs": [
        {
          "output_type": "display_data",
          "data": {
            "text/plain": [
              "<Figure size 432x432 with 1 Axes>"
            ],
            "image/png": "[encoded data removed]"
          },
          "metadata": {}
        }
      ]
    },
    {
      "cell_type": "code",
      "source": [
        "deadpeople_dataset['Alcohol'].value_counts()"
      ],
      "metadata": {
        "colab": {
          "base_uri": "https://localhost:8080/"
        },
        "id": "oKNoVzt3oAp_",
        "outputId": "4729b145-513f-4b16-d88d-e6a5e884124b"
      },
      "execution_count": 19,
      "outputs": [
        {
          "output_type": "execute_result",
          "data": {
            "text/plain": [
              "Yes    47\n",
              "No     43\n",
              "Name: Alcohol, dtype: int64"
            ]
          },
          "metadata": {},
          "execution_count": 19
        }
      ]
    },
    {
      "cell_type": "code",
      "source": [
        "#Distribution of Diabetes column\n",
        "plt.figure(figsize=(6,6))\n",
        "sns.countplot(x='Diabetes',data=deadpeople_dataset)\n",
        "plt.title('Diabetes Distribution')\n",
        "plt.show()"
      ],
      "metadata": {
        "colab": {
          "base_uri": "https://localhost:8080/",
          "height": 410
        },
        "id": "VVthbJ2ooFHw",
        "outputId": "4a243b84-7ee5-4f32-f245-5624dbbac84d"
      },
      "execution_count": 20,
      "outputs": [
        {
          "output_type": "display_data",
          "data": {
            "text/plain": [
              "<Figure size 432x432 with 1 Axes>"
            ],
            "image/png": "[encoded data removed]"
          },
          "metadata": {}
        }
      ]
    },
    {
      "cell_type": "code",
      "source": [
        "deadpeople_dataset['Diabetes'].value_counts()"
      ],
      "metadata": {
        "colab": {
          "base_uri": "https://localhost:8080/"
        },
        "id": "0RlGPGb3oWQe",
        "outputId": "c114f077-d5dd-40ea-8874-b09b9bd2d383"
      },
      "execution_count": 21,
      "outputs": [
        {
          "output_type": "execute_result",
          "data": {
            "text/plain": [
              "No     73\n",
              "Yes    17\n",
              "Name: Diabetes, dtype: int64"
            ]
          },
          "metadata": {},
          "execution_count": 21
        }
      ]
    },
    {
      "cell_type": "code",
      "source": [
        "#Distribution of Heart Disease column\n",
        "plt.figure(figsize=(6,6))\n",
        "sns.countplot(x='Heart_Disease',data=deadpeople_dataset)\n",
        "plt.title('Heart Disease Distribution')\n",
        "plt.show()"
      ],
      "metadata": {
        "colab": {
          "base_uri": "https://localhost:8080/",
          "height": 410
        },
        "id": "lC5pge__oa9o",
        "outputId": "42aaf33a-ca1b-448a-f0d3-4cbc3b0adbcc"
      },
      "execution_count": 22,
      "outputs": [
        {
          "output_type": "display_data",
          "data": {
            "text/plain": [
              "<Figure size 432x432 with 1 Axes>"
            ],
            "image/png": "[encoded data removed]"
          },
          "metadata": {}
        }
      ]
    },
    {
      "cell_type": "code",
      "source": [
        "deadpeople_dataset['Heart_Disease'].value_counts()"
      ],
      "metadata": {
        "colab": {
          "base_uri": "https://localhost:8080/"
        },
        "id": "xmOFFGBEotgM",
        "outputId": "4ad97309-1891-47c3-f4fd-8dded26708e4"
      },
      "execution_count": 23,
      "outputs": [
        {
          "output_type": "execute_result",
          "data": {
            "text/plain": [
              "No     83\n",
              "Yes     7\n",
              "Name: Heart_Disease, dtype: int64"
            ]
          },
          "metadata": {},
          "execution_count": 23
        }
      ]
    },
    {
      "cell_type": "code",
      "source": [
        "#Distribution of Blood Pressure column\n",
        "plt.figure(figsize=(6,6))\n",
        "sns.countplot(x='Blood_Pressure',data=deadpeople_dataset)\n",
        "plt.title('Blood Pressure Distribution')\n",
        "plt.show()"
      ],
      "metadata": {
        "colab": {
          "base_uri": "https://localhost:8080/",
          "height": 410
        },
        "id": "EYILVkGLoi7x",
        "outputId": "82dbe348-69f0-4a1d-fbf9-218e7ca0778e"
      },
      "execution_count": 24,
      "outputs": [
        {
          "output_type": "display_data",
          "data": {
            "text/plain": [
              "<Figure size 432x432 with 1 Axes>"
            ],
            "image/png": "[encoded data removed]"
          },
          "metadata": {}
        }
      ]
    },
    {
      "cell_type": "code",
      "source": [
        "deadpeople_dataset['Blood_Pressure'].value_counts()"
      ],
      "metadata": {
        "colab": {
          "base_uri": "https://localhost:8080/"
        },
        "id": "P8S2lAtlo-jk",
        "outputId": "d74a055c-1d69-44e6-9559-4108aa9d5bc8"
      },
      "execution_count": 25,
      "outputs": [
        {
          "output_type": "execute_result",
          "data": {
            "text/plain": [
              "No     57\n",
              "Yes    33\n",
              "Name: Blood_Pressure, dtype: int64"
            ]
          },
          "metadata": {},
          "execution_count": 25
        }
      ]
    },
    {
      "cell_type": "code",
      "source": [
        "#Distribution of Driving Habit column\n",
        "plt.figure(figsize=(6,6))\n",
        "sns.countplot(x='Driving_Habit',data=deadpeople_dataset)\n",
        "plt.title('Driving Habit Distribution')\n",
        "plt.show()"
      ],
      "metadata": {
        "colab": {
          "base_uri": "https://localhost:8080/",
          "height": 410
        },
        "id": "NCUCZ7gHpKJD",
        "outputId": "5df81ccd-e6f9-4a10-f19c-383ca983e61f"
      },
      "execution_count": 26,
      "outputs": [
        {
          "output_type": "display_data",
          "data": {
            "text/plain": [
              "<Figure size 432x432 with 1 Axes>"
            ],
            "image/png": "[encoded data removed]"
          },
          "metadata": {}
        }
      ]
    },
    {
      "cell_type": "code",
      "source": [
        "deadpeople_dataset['Driving_Habit'].value_counts()"
      ],
      "metadata": {
        "colab": {
          "base_uri": "https://localhost:8080/"
        },
        "id": "kS_M7Kt5pUEc",
        "outputId": "3d6e3343-8b8d-41ac-e9a3-ce86961eb2e0"
      },
      "execution_count": 27,
      "outputs": [
        {
          "output_type": "execute_result",
          "data": {
            "text/plain": [
              "Don't drive    55\n",
              "Good           32\n",
              "Bad             3\n",
              "Name: Driving_Habit, dtype: int64"
            ]
          },
          "metadata": {},
          "execution_count": 27
        }
      ]
    },
    {
      "cell_type": "code",
      "source": [
        "#Distribution of Chronic disease history column\n",
        "plt.figure(figsize=(10,10))\n",
        "sns.countplot(x='Chronic_disease_history',data=deadpeople_dataset)\n",
        "plt.title('Chronic disease history Distribution')\n",
        "plt.show()"
      ],
      "metadata": {
        "colab": {
          "base_uri": "https://localhost:8080/",
          "height": 627
        },
        "id": "rBzxSpnapcUI",
        "outputId": "afc0d4a5-8271-4f7c-c9bf-71a4fd9ca2e3"
      },
      "execution_count": 28,
      "outputs": [
        {
          "output_type": "display_data",
          "data": {
            "text/plain": [
              "<Figure size 720x720 with 1 Axes>"
            ],
            "image/png": "[encoded data removed]"
          },
          "metadata": {}
        }
      ]
    },
    {
      "cell_type": "code",
      "source": [
        "deadpeople_dataset['Chronic_disease_history'].value_counts()"
      ],
      "metadata": {
        "colab": {
          "base_uri": "https://localhost:8080/"
        },
        "id": "SZWIUbw9pcsf",
        "outputId": "f2cf5ffb-7d47-483b-e5c4-7e502631d9ed"
      },
      "execution_count": 29,
      "outputs": [
        {
          "output_type": "execute_result",
          "data": {
            "text/plain": [
              "None              51\n",
              "Blood Pressure    23\n",
              "Diabetes           9\n",
              "Cancer             5\n",
              "Heart Disease      1\n",
              "Asthma             1\n",
              "Name: Chronic_disease_history, dtype: int64"
            ]
          },
          "metadata": {},
          "execution_count": 29
        }
      ]
    },
    {
      "cell_type": "code",
      "source": [
        "#Distribution of Sleeping Hours column\n",
        "plt.figure(figsize=(8,8))\n",
        "sns.countplot(x='Sleeping_Hours',data=deadpeople_dataset)\n",
        "plt.title('Sleeping Hours Distribution')\n",
        "plt.show()"
      ],
      "metadata": {
        "colab": {
          "base_uri": "https://localhost:8080/",
          "height": 518
        },
        "id": "p0AfswR9p9-e",
        "outputId": "0a65198e-e4d0-4e4a-dc15-5c360e924afd"
      },
      "execution_count": 30,
      "outputs": [
        {
          "output_type": "display_data",
          "data": {
            "text/plain": [
              "<Figure size 576x576 with 1 Axes>"
            ],
            "image/png": "[encoded data removed]"
          },
          "metadata": {}
        }
      ]
    },
    {
      "cell_type": "code",
      "source": [
        "deadpeople_dataset['Sleeping_Hours'].value_counts()"
      ],
      "metadata": {
        "colab": {
          "base_uri": "https://localhost:8080/"
        },
        "id": "14cgpFErp-Pb",
        "outputId": "41e488b4-fa24-4c16-812c-70eb2a3acf7f"
      },
      "execution_count": 31,
      "outputs": [
        {
          "output_type": "execute_result",
          "data": {
            "text/plain": [
              "6 to 8 hrs          52\n",
              "8 to 10 hrs         29\n",
              "Less than 6 hrs      8\n",
              "more than 10 hrs     1\n",
              "Name: Sleeping_Hours, dtype: int64"
            ]
          },
          "metadata": {},
          "execution_count": 31
        }
      ]
    },
    {
      "cell_type": "code",
      "source": [
        "#Distribution of Food habit column\n",
        "plt.figure(figsize=(8,8))\n",
        "sns.countplot(x='Food_habit',data=deadpeople_dataset)\n",
        "plt.title('Food habit Distribution')\n",
        "plt.show()"
      ],
      "metadata": {
        "colab": {
          "base_uri": "https://localhost:8080/",
          "height": 518
        },
        "id": "LBVEssuWqaLX",
        "outputId": "8dca5e16-6e2f-4375-e21e-2fdb313bfbb6"
      },
      "execution_count": 32,
      "outputs": [
        {
          "output_type": "display_data",
          "data": {
            "text/plain": [
              "<Figure size 576x576 with 1 Axes>"
            ],
            "image/png": "[encoded data removed]"
          },
          "metadata": {}
        }
      ]
    },
    {
      "cell_type": "code",
      "source": [
        "deadpeople_dataset['Food_habit'].value_counts()"
      ],
      "metadata": {
        "colab": {
          "base_uri": "https://localhost:8080/"
        },
        "id": "2xGSN4naqabe",
        "outputId": "10ea3640-84a2-421f-f1bb-82dab57ba9df"
      },
      "execution_count": 33,
      "outputs": [
        {
          "output_type": "execute_result",
          "data": {
            "text/plain": [
              "Non-Vegeterian    82\n",
              "Vegeterian         8\n",
              "Name: Food_habit, dtype: int64"
            ]
          },
          "metadata": {},
          "execution_count": 33
        }
      ]
    },
    {
      "cell_type": "code",
      "source": [
        "#Distribution of Physical Activity column\n",
        "plt.figure(figsize=(10,10))\n",
        "sns.countplot(x='Physical_Activity',data=deadpeople_dataset)\n",
        "plt.title('Physical Activity Distribution')\n",
        "plt.show()"
      ],
      "metadata": {
        "colab": {
          "base_uri": "https://localhost:8080/",
          "height": 627
        },
        "id": "otra-zcJrYH5",
        "outputId": "7ee0a197-d2a4-4750-daeb-1c4005cf7b59"
      },
      "execution_count": 34,
      "outputs": [
        {
          "output_type": "display_data",
          "data": {
            "text/plain": [
              "<Figure size 720x720 with 1 Axes>"
            ],
            "image/png": "[encoded data removed]"
          },
          "metadata": {}
        }
      ]
    },
    {
      "cell_type": "code",
      "source": [
        "deadpeople_dataset['Physical_Activity'].value_counts()"
      ],
      "metadata": {
        "colab": {
          "base_uri": "https://localhost:8080/"
        },
        "id": "WakK8nKDrYeI",
        "outputId": "87bf2f2a-afcc-4516-bd17-ca6178c8eafb"
      },
      "execution_count": 35,
      "outputs": [
        {
          "output_type": "execute_result",
          "data": {
            "text/plain": [
              "No activity          40\n",
              "2 hrs                26\n",
              "Less than 30 mins    24\n",
              "Name: Physical_Activity, dtype: int64"
            ]
          },
          "metadata": {},
          "execution_count": 35
        }
      ]
    },
    {
      "cell_type": "code",
      "source": [
        "#Distribution of Environment column\n",
        "plt.figure(figsize=(10,10))\n",
        "sns.countplot(x='Environment',data=deadpeople_dataset)\n",
        "plt.title('Environment Distribution')\n",
        "plt.show()"
      ],
      "metadata": {
        "colab": {
          "base_uri": "https://localhost:8080/",
          "height": 627
        },
        "id": "hyLWNoVAt3LM",
        "outputId": "07f662b0-4bf2-4fb8-8cb4-36481815f344"
      },
      "execution_count": 36,
      "outputs": [
        {
          "output_type": "display_data",
          "data": {
            "text/plain": [
              "<Figure size 720x720 with 1 Axes>"
            ],
            "image/png": "[encoded data removed]"
          },
          "metadata": {}
        }
      ]
    },
    {
      "cell_type": "code",
      "source": [
        "deadpeople_dataset['Environment'].value_counts()"
      ],
      "metadata": {
        "colab": {
          "base_uri": "https://localhost:8080/"
        },
        "id": "B6Z4Et0rt3ha",
        "outputId": "e849ada0-ad93-4a0f-9683-748b1c7d6275"
      },
      "execution_count": 37,
      "outputs": [
        {
          "output_type": "execute_result",
          "data": {
            "text/plain": [
              "Clean environment    47\n",
              "Less polluted        36\n",
              "More polluted         7\n",
              "Name: Environment, dtype: int64"
            ]
          },
          "metadata": {},
          "execution_count": 37
        }
      ]
    },
    {
      "cell_type": "code",
      "source": [
        "#Distribution of Personality column\n",
        "plt.figure(figsize=(10,10))\n",
        "sns.countplot(x='Personality',data=deadpeople_dataset)\n",
        "plt.title('Personality Distribution')\n",
        "plt.show()"
      ],
      "metadata": {
        "colab": {
          "base_uri": "https://localhost:8080/",
          "height": 627
        },
        "id": "2B3WZb7WuGK3",
        "outputId": "aa3fd508-4531-40d5-c44b-2281bc4b3cd9"
      },
      "execution_count": 38,
      "outputs": [
        {
          "output_type": "display_data",
          "data": {
            "text/plain": [
              "<Figure size 720x720 with 1 Axes>"
            ],
            "image/png": "[encoded data removed]"
          },
          "metadata": {}
        }
      ]
    },
    {
      "cell_type": "code",
      "source": [
        "deadpeople_dataset['Personality'].value_counts()"
      ],
      "metadata": {
        "colab": {
          "base_uri": "https://localhost:8080/"
        },
        "id": "wyfuOFBJuGa0",
        "outputId": "8ad84ab7-b920-4a98-b4e6-a9c4b4fbe2dd"
      },
      "execution_count": 39,
      "outputs": [
        {
          "output_type": "execute_result",
          "data": {
            "text/plain": [
              "Extrovert        42\n",
              "Introvert        19\n",
              "Emotional        16\n",
              "Thick skinned    10\n",
              "Too sensitive     3\n",
              "Name: Personality, dtype: int64"
            ]
          },
          "metadata": {},
          "execution_count": 39
        }
      ]
    },
    {
      "cell_type": "code",
      "source": [
        "#Distribution of Stress measure column\n",
        "plt.figure(figsize=(6,6))\n",
        "sns.countplot(x='Stress_measure',data=deadpeople_dataset)\n",
        "plt.title('Stress measure Distribution')\n",
        "plt.show()"
      ],
      "metadata": {
        "colab": {
          "base_uri": "https://localhost:8080/",
          "height": 410
        },
        "id": "k39Ga7-buGoo",
        "outputId": "85f6c3e5-c582-4ac8-9e8a-9ef46efa06bc"
      },
      "execution_count": 40,
      "outputs": [
        {
          "output_type": "display_data",
          "data": {
            "text/plain": [
              "<Figure size 432x432 with 1 Axes>"
            ],
            "image/png": "[encoded data removed]"
          },
          "metadata": {}
        }
      ]
    },
    {
      "cell_type": "code",
      "source": [
        "deadpeople_dataset['Stress_measure'].value_counts()"
      ],
      "metadata": {
        "colab": {
          "base_uri": "https://localhost:8080/"
        },
        "id": "Q_zLVYoeuG2X",
        "outputId": "2339a6cf-f795-449e-c265-ac909ae552d5"
      },
      "execution_count": 41,
      "outputs": [
        {
          "output_type": "execute_result",
          "data": {
            "text/plain": [
              "Medium            49\n",
              "Low               24\n",
              "Extremely high    17\n",
              "Name: Stress_measure, dtype: int64"
            ]
          },
          "metadata": {},
          "execution_count": 41
        }
      ]
    },
    {
      "cell_type": "markdown",
      "source": [
        "Data Pre-processing"
      ],
      "metadata": {
        "id": "mVAMyN5DhBsr"
      }
    },
    {
      "cell_type": "code",
      "source": [
        "X_train, X_test, y_train, y_test = train_test_split(deadpeople_dataset.iloc[:, 1:16],deadpeople_dataset.iloc[:, -1],\n",
        "                                                    test_size=0.2,random_state=1)"
      ],
      "metadata": {
        "id": "39jgRMYXeb2C"
      },
      "execution_count": 42,
      "outputs": []
    },
    {
      "cell_type": "code",
      "source": [
        "print(X_train)"
      ],
      "metadata": {
        "colab": {
          "base_uri": "https://localhost:8080/"
        },
        "id": "7wQMuBqbfXFB",
        "outputId": "9028fc4c-5744-4c33-daf1-c621bfbf1030"
      },
      "execution_count": 43,
      "outputs": [
        {
          "output_type": "stream",
          "name": "stdout",
          "text": [
            "    Gender  Height  Weight Smoking Alcohol Diabetes Heart_Disease  \\\n",
            "89    Male   180.0    76.0      No      No      Yes           Yes   \n",
            "70    Male   168.0    65.0     Yes      No       No            No   \n",
            "53    Male   157.0    78.0     Yes     Yes       No            No   \n",
            "19    Male   181.0    75.0     Yes     Yes      Yes            No   \n",
            "84    Male   162.0    80.0      No      No       No            No   \n",
            "..     ...     ...     ...     ...     ...      ...           ...   \n",
            "75  Female   152.0    70.0      No      No       No            No   \n",
            "9   Female   150.0    47.0      No      No       No            No   \n",
            "72    Male   180.0   102.0      No     Yes       No            No   \n",
            "12    Male   167.0    54.0      No     Yes       No            No   \n",
            "37  Female   158.0    65.0      No      No      Yes            No   \n",
            "\n",
            "   Blood_Pressure Driving_Habit Chronic_disease_history Sleeping_Hours  \\\n",
            "89            Yes   Don't drive          Blood Pressure     6 to 8 hrs   \n",
            "70             No          Good                    None     6 to 8 hrs   \n",
            "53             No           Bad                Diabetes    8 to 10 hrs   \n",
            "19             No   Don't drive                Diabetes     6 to 8 hrs   \n",
            "84            Yes          Good          Blood Pressure     6 to 8 hrs   \n",
            "..            ...           ...                     ...            ...   \n",
            "75             No          Good                    None    8 to 10 hrs   \n",
            "9              No   Don't drive                    None     6 to 8 hrs   \n",
            "72             No          Good                    None     6 to 8 hrs   \n",
            "12             No   Don't drive                    None     6 to 8 hrs   \n",
            "37            Yes   Don't drive          Blood Pressure     6 to 8 hrs   \n",
            "\n",
            "        Food_habit  Physical_Activity        Environment    Personality  \n",
            "89  Non-Vegeterian        No activity  Clean environment  Thick skinned  \n",
            "70  Non-Vegeterian              2 hrs      Less polluted      Introvert  \n",
            "53  Non-Vegeterian        No activity      Less polluted      Introvert  \n",
            "19  Non-Vegeterian        No activity      Less polluted      Introvert  \n",
            "84  Non-Vegeterian  Less than 30 mins      More polluted  Thick skinned  \n",
            "..             ...                ...                ...            ...  \n",
            "75  Non-Vegeterian  Less than 30 mins      Less polluted      Emotional  \n",
            "9   Non-Vegeterian              2 hrs  Clean environment      Extrovert  \n",
            "72  Non-Vegeterian        No activity  Clean environment      Emotional  \n",
            "12  Non-Vegeterian              2 hrs  Clean environment      Extrovert  \n",
            "37  Non-Vegeterian  Less than 30 mins  Clean environment      Extrovert  \n",
            "\n",
            "[72 rows x 15 columns]\n"
          ]
        }
      ]
    },
    {
      "cell_type": "code",
      "source": [
        "print(X_test)"
      ],
      "metadata": {
        "colab": {
          "base_uri": "https://localhost:8080/"
        },
        "id": "d5HX0jaBfcfJ",
        "outputId": "cef57a80-71bc-4717-a737-5a226d6c2930"
      },
      "execution_count": 44,
      "outputs": [
        {
          "output_type": "stream",
          "name": "stdout",
          "text": [
            "    Gender  Height  Weight Smoking Alcohol Diabetes Heart_Disease  \\\n",
            "58  Female   154.0    48.0      No     Yes       No            No   \n",
            "78    Male   175.0    88.0     Yes     Yes       No            No   \n",
            "43    Male   180.0    69.0      No      No       No            No   \n",
            "55    Male   176.0    67.7      No      No       No            No   \n",
            "87    Male   170.0    80.0      No     Yes      Yes           Yes   \n",
            "74  Female   157.0    95.0      No     Yes       No            No   \n",
            "60    Male   173.0    52.3      No      No       No            No   \n",
            "52    Male   179.0    85.0     Yes     Yes       No            No   \n",
            "46  Female   155.0    45.0      No      No       No            No   \n",
            "39  Female   157.0    95.0      No     Yes       No            No   \n",
            "40    Male   158.0    60.0     Yes     Yes       No            No   \n",
            "31    Male   172.0    75.0      No      No      Yes            No   \n",
            "69  Female   152.0    68.0      No      No       No            No   \n",
            "27    Male   155.0    45.0      No     Yes       No            No   \n",
            "38    Male   150.0    55.0      No     Yes      Yes            No   \n",
            "68  Female   152.0    68.0      No      No       No            No   \n",
            "10  Female   155.0    46.0      No     Yes       No            No   \n",
            "2     Male   165.0    55.0     Yes     Yes       No            No   \n",
            "\n",
            "   Blood_Pressure Driving_Habit Chronic_disease_history    Sleeping_Hours  \\\n",
            "58            Yes   Don't drive                    None       8 to 10 hrs   \n",
            "78             No          Good                    None       8 to 10 hrs   \n",
            "43             No          Good                    None       8 to 10 hrs   \n",
            "55             No   Don't drive                    None   Less than 6 hrs   \n",
            "87            Yes   Don't drive                Diabetes       8 to 10 hrs   \n",
            "74             No   Don't drive                    None       8 to 10 hrs   \n",
            "60             No   Don't drive                    None   Less than 6 hrs   \n",
            "52             No           Bad                    None        6 to 8 hrs   \n",
            "46             No   Don't drive                    None   Less than 6 hrs   \n",
            "39             No   Don't drive                    None       8 to 10 hrs   \n",
            "40             No          Good                    None        6 to 8 hrs   \n",
            "31             No   Don't drive                  Cancer       8 to 10 hrs   \n",
            "69             No   Don't drive                  Cancer       8 to 10 hrs   \n",
            "27             No   Don't drive                    None        6 to 8 hrs   \n",
            "38            Yes   Don't drive                Diabetes  more than 10 hrs   \n",
            "68             No   Don't drive                  Cancer       8 to 10 hrs   \n",
            "10             No   Don't drive                    None        6 to 8 hrs   \n",
            "2             Yes   Don't drive          Blood Pressure        6 to 8 hrs   \n",
            "\n",
            "        Food_habit  Physical_Activity        Environment    Personality  \n",
            "58  Non-Vegeterian  Less than 30 mins  Clean environment      Emotional  \n",
            "78  Non-Vegeterian        No activity      Less polluted      Emotional  \n",
            "43  Non-Vegeterian  Less than 30 mins      Less polluted      Introvert  \n",
            "55  Non-Vegeterian        No activity      Less polluted      Extrovert  \n",
            "87  Non-Vegeterian        No activity      Less polluted      Extrovert  \n",
            "74  Non-Vegeterian  Less than 30 mins      Less polluted      Emotional  \n",
            "60  Non-Vegeterian  Less than 30 mins      Less polluted      Extrovert  \n",
            "52  Non-Vegeterian              2 hrs      Less polluted      Extrovert  \n",
            "46  Non-Vegeterian        No activity      More polluted      Extrovert  \n",
            "39  Non-Vegeterian  Less than 30 mins      Less polluted      Emotional  \n",
            "40  Non-Vegeterian  Less than 30 mins  Clean environment      Introvert  \n",
            "31      Vegeterian        No activity      Less polluted      Extrovert  \n",
            "69  Non-Vegeterian        No activity      Less polluted      Emotional  \n",
            "27  Non-Vegeterian              2 hrs  Clean environment      Extrovert  \n",
            "38  Non-Vegeterian  Less than 30 mins  Clean environment  Thick skinned  \n",
            "68  Non-Vegeterian        No activity      Less polluted      Emotional  \n",
            "10  Non-Vegeterian              2 hrs  Clean environment      Extrovert  \n",
            "2   Non-Vegeterian              2 hrs  Clean environment      Extrovert  \n"
          ]
        }
      ]
    },
    {
      "cell_type": "code",
      "source": [
        "print(y_train)"
      ],
      "metadata": {
        "colab": {
          "base_uri": "https://localhost:8080/"
        },
        "id": "w2DmZVGhfnz9",
        "outputId": "cc8ba7e7-ae9c-4de6-ccd0-f9c5ad9e7ce1"
      },
      "execution_count": 45,
      "outputs": [
        {
          "output_type": "stream",
          "name": "stdout",
          "text": [
            "89    67\n",
            "70    56\n",
            "53    56\n",
            "19    54\n",
            "84    28\n",
            "      ..\n",
            "75    70\n",
            "9     70\n",
            "72    68\n",
            "12    75\n",
            "37    72\n",
            "Name: Age, Length: 72, dtype: int64\n"
          ]
        }
      ]
    },
    {
      "cell_type": "code",
      "source": [
        "print(y_test)"
      ],
      "metadata": {
        "colab": {
          "base_uri": "https://localhost:8080/"
        },
        "id": "gp9gwWlaft3T",
        "outputId": "6185ee41-dc36-4a8e-f62d-a436b322bc5f"
      },
      "execution_count": 46,
      "outputs": [
        {
          "output_type": "stream",
          "name": "stdout",
          "text": [
            "58    79\n",
            "78    65\n",
            "43    79\n",
            "55    75\n",
            "87    79\n",
            "74    70\n",
            "60    75\n",
            "52    32\n",
            "46    80\n",
            "39    78\n",
            "40    77\n",
            "31    82\n",
            "69    70\n",
            "27    90\n",
            "38    77\n",
            "68    70\n",
            "10    90\n",
            "2     50\n",
            "Name: Age, dtype: int64\n"
          ]
        }
      ]
    },
    {
      "cell_type": "markdown",
      "source": [
        "Encoding the categorical features"
      ],
      "metadata": {
        "id": "ALP2g-uXhGo3"
      }
    },
    {
      "cell_type": "code",
      "source": [
        "#encoding Gender column\n",
        "deadpeople_dataset.replace({'Gender':{'Male':0, 'Female':1}}, inplace=True)\n",
        "\n",
        "#encoding Smoking column\n",
        "deadpeople_dataset.replace({'Smoking':{'Yes':0, 'No':1}}, inplace=True)\n",
        "\n",
        "#encoding Alcohol column\n",
        "deadpeople_dataset.replace({'Alcohol':{'Yes':0, 'No':1}}, inplace=True)\n",
        "\n",
        "#encoding Diabetes column\n",
        "deadpeople_dataset.replace({'Diabetes':{'Yes':0, 'No':1}}, inplace=True)\n",
        "\n",
        "#encoding Heart_Disease column\n",
        "deadpeople_dataset.replace({'Heart_Disease':{'Yes':0, 'No':1}}, inplace=True)\n",
        "\n",
        "#encoding Blood_Pressure column\n",
        "deadpeople_dataset.replace({'Blood_Pressure':{'Yes':0, 'No':1}}, inplace=True)\n",
        "\n",
        "#encoding Food_habit column\n",
        "deadpeople_dataset.replace({'Food_habit':{'Vegeterian':0, 'Non-Vegeterian':1}}, inplace=True)\n",
        "\n",
        "#encoding Driving_Habit column\n",
        "deadpeople_dataset.replace({'Driving_Habit':{'Bad':0, 'Good':1, 'Don\\'t drive':2}} , inplace=True)\n",
        "\n",
        "#encoding Chronic_disease_history column\n",
        "deadpeople_dataset.replace({'Chronic_disease_history':{'Cancer':0, 'Heart Disease':1, 'Diabetes':2, 'Blood Pressure':3,\n",
        "                                                       'Asthma':4, 'None':5}} , inplace=True)\n",
        "\n",
        "#encoding Sleeping_Hours column\n",
        "deadpeople_dataset.replace({'Sleeping_Hours':{'Less than 6 hrs':0, '6 to 8 hrs':1, '8 to 10 hrs':2, 'more than 10 hrs':3\n",
        "                                          }} , inplace=True)\n",
        "\n",
        "#encoding Physical_Activity column\n",
        "deadpeople_dataset.replace({'Physical_Activity':{'No activity':0, 'Less than 30 mins':1, '2 hrs':2}} , inplace=True)\n",
        "\n",
        "#encoding Environment column\n",
        "deadpeople_dataset.replace({'Environment':{'More polluted':0, 'Less polluted':1, 'Clean environment':2}} , inplace=True)\n",
        "\n",
        "#encoding Personality column\n",
        "deadpeople_dataset.replace({'Personality':{'Extrovert':0, 'Introvert':1, 'Emotional':2, 'Thick skinned':3, \n",
        "                                           'Too sensitive':4}} , inplace=True)\n",
        "\n",
        "#encoding Stress_measure column\n",
        "deadpeople_dataset.replace({'Stress_measure':{'Extremely high':0, 'Medium':1, 'Low':2}} , inplace=True)\n"
      ],
      "metadata": {
        "id": "7pngH08sl6Zl"
      },
      "execution_count": 59,
      "outputs": []
    },
    {
      "cell_type": "code",
      "source": [
        "deadpeople_dataset.head(90)"
      ],
      "metadata": {
        "colab": {
          "base_uri": "https://localhost:8080/",
          "height": 1283
        },
        "id": "q_yZDYQN1-51",
        "outputId": "81669b61-636a-428a-9c16-26c1f91a704b"
      },
      "execution_count": 61,
      "outputs": [
        {
          "output_type": "execute_result",
          "data": {
            "text/plain": [
              "                        Name  Gender  Height  Weight  Smoking  Alcohol  \\\n",
              "0                 Vicky Gope       0   159.0    54.0        1        1   \n",
              "1             Late Adit Gope       0   150.0    50.0        1        1   \n",
              "2        Late Mangra Kachhap       0   165.0    55.0        0        0   \n",
              "3              Paate Kachhap       0   160.0    55.0        0        0   \n",
              "4            Late Cibi Oraon       1   150.0    45.0        1        0   \n",
              "..                       ...     ...     ...     ...      ...      ...   \n",
              "85     Late Sita Devi Bansal       1   152.0    65.0        1        1   \n",
              "86          Lt. Maloti Topno       1   150.0    60.0        1        1   \n",
              "87        Late Flavius kujur       0   170.0    80.0        1        0   \n",
              "88               Late Ignace       0   190.0    86.0        1        0   \n",
              "89   Lt. Mrinal Kanti Biswas       0   180.0    76.0        1        1   \n",
              "\n",
              "    Diabetes  Heart_Disease  Blood_Pressure  Driving_Habit  \\\n",
              "0          1              1               1              1   \n",
              "1          1              1               1              2   \n",
              "2          1              1               0              2   \n",
              "3          1              1               0              1   \n",
              "4          1              1               1              2   \n",
              "..       ...            ...             ...            ...   \n",
              "85         1              1               1              2   \n",
              "86         0              1               0              2   \n",
              "87         0              0               0              2   \n",
              "88         1              1               1              2   \n",
              "89         0              0               0              2   \n",
              "\n",
              "    Chronic_disease_history  Sleeping_Hours  Food_habit  Physical_Activity  \\\n",
              "0                         5               2           1                  0   \n",
              "1                         5               1           1                  0   \n",
              "2                         3               1           1                  2   \n",
              "3                         3               1           1                  2   \n",
              "4                         5               2           1                  2   \n",
              "..                      ...             ...         ...                ...   \n",
              "85                        2               1           0                  2   \n",
              "86                        3               2           1                  2   \n",
              "87                        2               2           1                  0   \n",
              "88                        5               1           1                  0   \n",
              "89                        3               1           1                  0   \n",
              "\n",
              "    Environment  Personality  Stress_measure  Age  \n",
              "0             2            1               1   80  \n",
              "1             2            0               2   18  \n",
              "2             2            0               1   50  \n",
              "3             2            0               1   53  \n",
              "4             2            0               2   90  \n",
              "..          ...          ...             ...  ...  \n",
              "85            2            1               2   67  \n",
              "86            2            0               2   70  \n",
              "87            1            0               2   79  \n",
              "88            2            3               2   76  \n",
              "89            2            3               1   67  \n",
              "\n",
              "[90 rows x 18 columns]"
            ],
            "text/html": [
              "\n",
              "  <div id=\"df-b8538811-8e48-4d41-aecc-15d137d3ed5e\">\n",
              "    <div class=\"colab-df-container\">\n",
              "      <div>\n",
              "<style scoped>\n",
              "    .dataframe tbody tr th:only-of-type {\n",
              "        vertical-align: middle;\n",
              "    }\n",
              "\n",
              "    .dataframe tbody tr th {\n",
              "        vertical-align: top;\n",
              "    }\n",
              "\n",
              "    .dataframe thead th {\n",
              "        text-align: right;\n",
              "    }\n",
              "</style>\n",
              "<table border=\"1\" class=\"dataframe\">\n",
              "  <thead>\n",
              "    <tr style=\"text-align: right;\">\n",
              "      <th></th>\n",
              "      <th>Name</th>\n",
              "      <th>Gender</th>\n",
              "      <th>Height</th>\n",
              "      <th>Weight</th>\n",
              "      <th>Smoking</th>\n",
              "      <th>Alcohol</th>\n",
              "      <th>Diabetes</th>\n",
              "      <th>Heart_Disease</th>\n",
              "      <th>Blood_Pressure</th>\n",
              "      <th>Driving_Habit</th>\n",
              "      <th>Chronic_disease_history</th>\n",
              "      <th>Sleeping_Hours</th>\n",
              "      <th>Food_habit</th>\n",
              "      <th>Physical_Activity</th>\n",
              "      <th>Environment</th>\n",
              "      <th>Personality</th>\n",
              "      <th>Stress_measure</th>\n",
              "      <th>Age</th>\n",
              "    </tr>\n",
              "  </thead>\n",
              "  <tbody>\n",
              "    <tr>\n",
              "      <th>0</th>\n",
              "      <td>Vicky Gope</td>\n",
              "      <td>0</td>\n",
              "      <td>159.0</td>\n",
              "      <td>54.0</td>\n",
              "      <td>1</td>\n",
              "      <td>1</td>\n",
              "      <td>1</td>\n",
              "      <td>1</td>\n",
              "      <td>1</td>\n",
              "      <td>1</td>\n",
              "      <td>5</td>\n",
              "      <td>2</td>\n",
              "      <td>1</td>\n",
              "      <td>0</td>\n",
              "      <td>2</td>\n",
              "      <td>1</td>\n",
              "      <td>1</td>\n",
              "      <td>80</td>\n",
              "    </tr>\n",
              "    <tr>\n",
              "      <th>1</th>\n",
              "      <td>Late Adit Gope</td>\n",
              "      <td>0</td>\n",
              "      <td>150.0</td>\n",
              "      <td>50.0</td>\n",
              "      <td>1</td>\n",
              "      <td>1</td>\n",
              "      <td>1</td>\n",
              "      <td>1</td>\n",
              "      <td>1</td>\n",
              "      <td>2</td>\n",
              "      <td>5</td>\n",
              "      <td>1</td>\n",
              "      <td>1</td>\n",
              "      <td>0</td>\n",
              "      <td>2</td>\n",
              "      <td>0</td>\n",
              "      <td>2</td>\n",
              "      <td>18</td>\n",
              "    </tr>\n",
              "    <tr>\n",
              "      <th>2</th>\n",
              "      <td>Late Mangra Kachhap</td>\n",
              "      <td>0</td>\n",
              "      <td>165.0</td>\n",
              "      <td>55.0</td>\n",
              "      <td>0</td>\n",
              "      <td>0</td>\n",
              "      <td>1</td>\n",
              "      <td>1</td>\n",
              "      <td>0</td>\n",
              "      <td>2</td>\n",
              "      <td>3</td>\n",
              "      <td>1</td>\n",
              "      <td>1</td>\n",
              "      <td>2</td>\n",
              "      <td>2</td>\n",
              "      <td>0</td>\n",
              "      <td>1</td>\n",
              "      <td>50</td>\n",
              "    </tr>\n",
              "    <tr>\n",
              "      <th>3</th>\n",
              "      <td>Paate Kachhap</td>\n",
              "      <td>0</td>\n",
              "      <td>160.0</td>\n",
              "      <td>55.0</td>\n",
              "      <td>0</td>\n",
              "      <td>0</td>\n",
              "      <td>1</td>\n",
              "      <td>1</td>\n",
              "      <td>0</td>\n",
              "      <td>1</td>\n",
              "      <td>3</td>\n",
              "      <td>1</td>\n",
              "      <td>1</td>\n",
              "      <td>2</td>\n",
              "      <td>2</td>\n",
              "      <td>0</td>\n",
              "      <td>1</td>\n",
              "      <td>53</td>\n",
              "    </tr>\n",
              "    <tr>\n",
              "      <th>4</th>\n",
              "      <td>Late Cibi Oraon</td>\n",
              "      <td>1</td>\n",
              "      <td>150.0</td>\n",
              "      <td>45.0</td>\n",
              "      <td>1</td>\n",
              "      <td>0</td>\n",
              "      <td>1</td>\n",
              "      <td>1</td>\n",
              "      <td>1</td>\n",
              "      <td>2</td>\n",
              "      <td>5</td>\n",
              "      <td>2</td>\n",
              "      <td>1</td>\n",
              "      <td>2</td>\n",
              "      <td>2</td>\n",
              "      <td>0</td>\n",
              "      <td>2</td>\n",
              "      <td>90</td>\n",
              "    </tr>\n",
              "    <tr>\n",
              "      <th>...</th>\n",
              "      <td>...</td>\n",
              "      <td>...</td>\n",
              "      <td>...</td>\n",
              "      <td>...</td>\n",
              "      <td>...</td>\n",
              "      <td>...</td>\n",
              "      <td>...</td>\n",
              "      <td>...</td>\n",
              "      <td>...</td>\n",
              "      <td>...</td>\n",
              "      <td>...</td>\n",
              "      <td>...</td>\n",
              "      <td>...</td>\n",
              "      <td>...</td>\n",
              "      <td>...</td>\n",
              "      <td>...</td>\n",
              "      <td>...</td>\n",
              "      <td>...</td>\n",
              "    </tr>\n",
              "    <tr>\n",
              "      <th>85</th>\n",
              "      <td>Late Sita Devi Bansal</td>\n",
              "      <td>1</td>\n",
              "      <td>152.0</td>\n",
              "      <td>65.0</td>\n",
              "      <td>1</td>\n",
              "      <td>1</td>\n",
              "      <td>1</td>\n",
              "      <td>1</td>\n",
              "      <td>1</td>\n",
              "      <td>2</td>\n",
              "      <td>2</td>\n",
              "      <td>1</td>\n",
              "      <td>0</td>\n",
              "      <td>2</td>\n",
              "      <td>2</td>\n",
              "      <td>1</td>\n",
              "      <td>2</td>\n",
              "      <td>67</td>\n",
              "    </tr>\n",
              "    <tr>\n",
              "      <th>86</th>\n",
              "      <td>Lt. Maloti Topno</td>\n",
              "      <td>1</td>\n",
              "      <td>150.0</td>\n",
              "      <td>60.0</td>\n",
              "      <td>1</td>\n",
              "      <td>1</td>\n",
              "      <td>0</td>\n",
              "      <td>1</td>\n",
              "      <td>0</td>\n",
              "      <td>2</td>\n",
              "      <td>3</td>\n",
              "      <td>2</td>\n",
              "      <td>1</td>\n",
              "      <td>2</td>\n",
              "      <td>2</td>\n",
              "      <td>0</td>\n",
              "      <td>2</td>\n",
              "      <td>70</td>\n",
              "    </tr>\n",
              "    <tr>\n",
              "      <th>87</th>\n",
              "      <td>Late Flavius kujur</td>\n",
              "      <td>0</td>\n",
              "      <td>170.0</td>\n",
              "      <td>80.0</td>\n",
              "      <td>1</td>\n",
              "      <td>0</td>\n",
              "      <td>0</td>\n",
              "      <td>0</td>\n",
              "      <td>0</td>\n",
              "      <td>2</td>\n",
              "      <td>2</td>\n",
              "      <td>2</td>\n",
              "      <td>1</td>\n",
              "      <td>0</td>\n",
              "      <td>1</td>\n",
              "      <td>0</td>\n",
              "      <td>2</td>\n",
              "      <td>79</td>\n",
              "    </tr>\n",
              "    <tr>\n",
              "      <th>88</th>\n",
              "      <td>Late Ignace</td>\n",
              "      <td>0</td>\n",
              "      <td>190.0</td>\n",
              "      <td>86.0</td>\n",
              "      <td>1</td>\n",
              "      <td>0</td>\n",
              "      <td>1</td>\n",
              "      <td>1</td>\n",
              "      <td>1</td>\n",
              "      <td>2</td>\n",
              "      <td>5</td>\n",
              "      <td>1</td>\n",
              "      <td>1</td>\n",
              "      <td>0</td>\n",
              "      <td>2</td>\n",
              "      <td>3</td>\n",
              "      <td>2</td>\n",
              "      <td>76</td>\n",
              "    </tr>\n",
              "    <tr>\n",
              "      <th>89</th>\n",
              "      <td>Lt. Mrinal Kanti Biswas</td>\n",
              "      <td>0</td>\n",
              "      <td>180.0</td>\n",
              "      <td>76.0</td>\n",
              "      <td>1</td>\n",
              "      <td>1</td>\n",
              "      <td>0</td>\n",
              "      <td>0</td>\n",
              "      <td>0</td>\n",
              "      <td>2</td>\n",
              "      <td>3</td>\n",
              "      <td>1</td>\n",
              "      <td>1</td>\n",
              "      <td>0</td>\n",
              "      <td>2</td>\n",
              "      <td>3</td>\n",
              "      <td>1</td>\n",
              "      <td>67</td>\n",
              "    </tr>\n",
              "  </tbody>\n",
              "</table>\n",
              "<p>90 rows × 18 columns</p>\n",
              "</div>\n",
              "      <button class=\"colab-df-convert\" onclick=\"convertToInteractive('df-b8538811-8e48-4d41-aecc-15d137d3ed5e')\"\n",
              "              title=\"Convert this dataframe to an interactive table.\"\n",
              "              style=\"display:none;\">\n",
              "        \n",
              "  <svg xmlns=\"http://www.w3.org/2000/svg\" height=\"24px\"viewBox=\"0 0 24 24\"\n",
              "       width=\"24px\">\n",
              "    <path d=\"M0 0h24v24H0V0z\" fill=\"none\"/>\n",
              "    <path d=\"M18.56 5.44l.94 2.06.94-2.06 2.06-.94-2.06-.94-.94-2.06-.94 2.06-2.06.94zm-11 1L8.5 8.5l.94-2.06 2.06-.94-2.06-.94L8.5 2.5l-.94 2.06-2.06.94zm10 10l.94 2.06.94-2.06 2.06-.94-2.06-.94-.94-2.06-.94 2.06-2.06.94z\"/><path d=\"M17.41 7.96l-1.37-1.37c-.4-.4-.92-.59-1.43-.59-.52 0-1.04.2-1.43.59L10.3 9.45l-7.72 7.72c-.78.78-.78 2.05 0 2.83L4 21.41c.39.39.9.59 1.41.59.51 0 1.02-.2 1.41-.59l7.78-7.78 2.81-2.81c.8-.78.8-2.07 0-2.86zM5.41 20L4 18.59l7.72-7.72 1.47 1.35L5.41 20z\"/>\n",
              "  </svg>\n",
              "      </button>\n",
              "      \n",
              "  <style>\n",
              "    .colab-df-container {\n",
              "      display:flex;\n",
              "      flex-wrap:wrap;\n",
              "      gap: 12px;\n",
              "    }\n",
              "\n",
              "    .colab-df-convert {\n",
              "      background-color: #E8F0FE;\n",
              "      border: none;\n",
              "      border-radius: 50%;\n",
              "      cursor: pointer;\n",
              "      display: none;\n",
              "      fill: #1967D2;\n",
              "      height: 32px;\n",
              "      padding: 0 0 0 0;\n",
              "      width: 32px;\n",
              "    }\n",
              "\n",
              "    .colab-df-convert:hover {\n",
              "      background-color: #E2EBFA;\n",
              "      box-shadow: 0px 1px 2px rgba(60, 64, 67, 0.3), 0px 1px 3px 1px rgba(60, 64, 67, 0.15);\n",
              "      fill: #174EA6;\n",
              "    }\n",
              "\n",
              "    [theme=dark] .colab-df-convert {\n",
              "      background-color: #3B4455;\n",
              "      fill: #D2E3FC;\n",
              "    }\n",
              "\n",
              "    [theme=dark] .colab-df-convert:hover {\n",
              "      background-color: #434B5C;\n",
              "      box-shadow: 0px 1px 3px 1px rgba(0, 0, 0, 0.15);\n",
              "      filter: drop-shadow(0px 1px 2px rgba(0, 0, 0, 0.3));\n",
              "      fill: #FFFFFF;\n",
              "    }\n",
              "  </style>\n",
              "\n",
              "      <script>\n",
              "        const buttonEl =\n",
              "          document.querySelector('#df-b8538811-8e48-4d41-aecc-15d137d3ed5e button.colab-df-convert');\n",
              "        buttonEl.style.display =\n",
              "          google.colab.kernel.accessAllowed ? 'block' : 'none';\n",
              "\n",
              "        async function convertToInteractive(key) {\n",
              "          const element = document.querySelector('#df-b8538811-8e48-4d41-aecc-15d137d3ed5e');\n",
              "          const dataTable =\n",
              "            await google.colab.kernel.invokeFunction('convertToInteractive',\n",
              "                                                     [key], {});\n",
              "          if (!dataTable) return;\n",
              "\n",
              "          const docLinkHtml = 'Like what you see? Visit the ' +\n",
              "            '<a target=\"_blank\" href=https://colab.research.google.com/notebooks/data_table.ipynb>data table notebook</a>'\n",
              "            + ' to learn more about interactive tables.';\n",
              "          element.innerHTML = '';\n",
              "          dataTable['output_type'] = 'display_data';\n",
              "          await google.colab.output.renderOutput(dataTable, element);\n",
              "          const docLink = document.createElement('div');\n",
              "          docLink.innerHTML = docLinkHtml;\n",
              "          element.appendChild(docLink);\n",
              "        }\n",
              "      </script>\n",
              "    </div>\n",
              "  </div>\n",
              "  "
            ]
          },
          "metadata": {},
          "execution_count": 61
        }
      ]
    },
    {
      "cell_type": "markdown",
      "source": [
        "Splitting the Features and Target"
      ],
      "metadata": {
        "id": "ySgleiKq7oTQ"
      }
    },
    {
      "cell_type": "code",
      "source": [
        "X = deadpeople_dataset.iloc[:, 1:-1].values\n",
        "y = deadpeople_dataset.iloc[:, -1].values"
      ],
      "metadata": {
        "id": "7DwkvT4s7vvx"
      },
      "execution_count": 70,
      "outputs": []
    },
    {
      "cell_type": "code",
      "source": [
        "print(X)"
      ],
      "metadata": {
        "colab": {
          "base_uri": "https://localhost:8080/"
        },
        "id": "sOf_ZADG8AEC",
        "outputId": "234a3eb4-857d-463d-cabb-732bf074a748"
      },
      "execution_count": 71,
      "outputs": [
        {
          "output_type": "stream",
          "name": "stdout",
          "text": [
            "[[  0. 159.  54. ...   2.   1.   1.]\n",
            " [  0. 150.  50. ...   2.   0.   2.]\n",
            " [  0. 165.  55. ...   2.   0.   1.]\n",
            " ...\n",
            " [  0. 170.  80. ...   1.   0.   2.]\n",
            " [  0. 190.  86. ...   2.   3.   2.]\n",
            " [  0. 180.  76. ...   2.   3.   1.]]\n"
          ]
        }
      ]
    },
    {
      "cell_type": "code",
      "source": [
        "print(y)"
      ],
      "metadata": {
        "colab": {
          "base_uri": "https://localhost:8080/"
        },
        "id": "d3MLji5c8DHN",
        "outputId": "4f563f49-c637-4e0d-cd4d-7cc44ba518af"
      },
      "execution_count": 72,
      "outputs": [
        {
          "output_type": "stream",
          "name": "stdout",
          "text": [
            "[80 18 50 53 90 60 65 62 85 70 90 30 75 64 45 45 85 75 45 54 75 22 55 80\n",
            " 83 55 60 90 85 76 70 82 82 85 83 80 65 72 77 78 77 74 75 79 70 35 80 79\n",
            " 34 80 79 56 32 56 73 75 77 79 79 77 75 78 81 69 87 82 70 68 70 70 56 80\n",
            " 68 70 70 70 65 48 65 80 53 72 70 55 28 67 70 79 76 67]\n"
          ]
        }
      ]
    },
    {
      "cell_type": "markdown",
      "source": [
        "Splitting Data into Training data and Testing data"
      ],
      "metadata": {
        "id": "gY6yhVaC8K3_"
      }
    },
    {
      "cell_type": "code",
      "source": [
        "X_train , X_test , y_train , y_test = train_test_split(X , y , test_size = 0.2 , random_state = 2)"
      ],
      "metadata": {
        "id": "6M4A4JkP8Lpc"
      },
      "execution_count": 73,
      "outputs": []
    },
    {
      "cell_type": "code",
      "source": [
        "print(X.shape , X_train.shape , X_test.shape)"
      ],
      "metadata": {
        "colab": {
          "base_uri": "https://localhost:8080/"
        },
        "id": "NvGi8_OW8VEH",
        "outputId": "b6b16323-ab0d-40f7-ad22-951c1f210bd5"
      },
      "execution_count": 74,
      "outputs": [
        {
          "output_type": "stream",
          "name": "stdout",
          "text": [
            "(90, 16) (72, 16) (18, 16)\n"
          ]
        }
      ]
    },
    {
      "cell_type": "markdown",
      "source": [
        "Model Training"
      ],
      "metadata": {
        "id": "DBVINTye8bIa"
      }
    },
    {
      "cell_type": "code",
      "source": [
        "#loading Linear Regression Model\n",
        "regressor = LinearRegression()"
      ],
      "metadata": {
        "id": "5VbPBk7j8dMd"
      },
      "execution_count": 75,
      "outputs": []
    },
    {
      "cell_type": "code",
      "source": [
        "regressor.fit(X_train,y_train)"
      ],
      "metadata": {
        "colab": {
          "base_uri": "https://localhost:8080/"
        },
        "id": "rnCu01cv8hLr",
        "outputId": "4ab8fdce-a588-4d6c-c44b-d44460bf33f3"
      },
      "execution_count": 76,
      "outputs": [
        {
          "output_type": "execute_result",
          "data": {
            "text/plain": [
              "LinearRegression()"
            ]
          },
          "metadata": {},
          "execution_count": 76
        }
      ]
    },
    {
      "cell_type": "markdown",
      "source": [
        "Model Evaluation"
      ],
      "metadata": {
        "id": "fc4SknT19Fam"
      }
    },
    {
      "cell_type": "code",
      "source": [
        "#prediction on training data\n",
        "training_data_prediction = regressor.predict(X_train)"
      ],
      "metadata": {
        "id": "5JNfPrvi9HTd"
      },
      "execution_count": 77,
      "outputs": []
    },
    {
      "cell_type": "code",
      "source": [
        "#R squared value\n",
        "r2_train = metrics.r2_score(y_train , training_data_prediction)\n",
        "print('R squared value :' , r2_train)"
      ],
      "metadata": {
        "colab": {
          "base_uri": "https://localhost:8080/"
        },
        "id": "LStLtJOr9MQ2",
        "outputId": "35a52974-6fd1-4365-e9c5-534e4b12a10b"
      },
      "execution_count": 78,
      "outputs": [
        {
          "output_type": "stream",
          "name": "stdout",
          "text": [
            "R squared value : 0.2813001623031267\n"
          ]
        }
      ]
    },
    {
      "cell_type": "code",
      "source": [
        "#prediction on test data\n",
        "test_data_prediction = regressor.predict(X_test)"
      ],
      "metadata": {
        "id": "Pe22tSv89V2z"
      },
      "execution_count": 79,
      "outputs": []
    },
    {
      "cell_type": "code",
      "source": [
        "#R squared value\n",
        "r2_test = metrics.r2_score(y_test , test_data_prediction)\n",
        "print('R squared value :' , r2_test)"
      ],
      "metadata": {
        "colab": {
          "base_uri": "https://localhost:8080/"
        },
        "id": "WfQBKCOQ9ZWc",
        "outputId": "7cf9f6f3-2a3c-4078-dcff-abb6e833f02b"
      },
      "execution_count": 80,
      "outputs": [
        {
          "output_type": "stream",
          "name": "stdout",
          "text": [
            "R squared value : -0.03474480031169547\n"
          ]
        }
      ]
    },
    {
      "cell_type": "markdown",
      "source": [
        "Building a Predictive System"
      ],
      "metadata": {
        "id": "gy0Fjs699kLJ"
      }
    },
    {
      "cell_type": "code",
      "source": [
        "input_data = (0,165.0,55.0,0,0,1,1,0,2,3,1,1,2,2,0,1)\n",
        "\n",
        "#changing input data to numpy array\n",
        "input_data_as_numpy_array = np.asarray(input_data)\n",
        "\n",
        "#reshape the array\n",
        "input_data_reshaped = input_data_as_numpy_array.reshape(1,-1)\n",
        "\n",
        "prediction = regressor.predict(input_data_reshaped)\n",
        "print(prediction)\n",
        "\n",
        "print('The life expectancy of individual is', prediction[0])"
      ],
      "metadata": {
        "colab": {
          "base_uri": "https://localhost:8080/"
        },
        "id": "xUA6NH1Q9l4h",
        "outputId": "e305a67c-7294-4afd-b7c9-80e936f3a4ac"
      },
      "execution_count": 83,
      "outputs": [
        {
          "output_type": "stream",
          "name": "stdout",
          "text": [
            "[56.55606553]\n",
            "The life expectancy of individual is 56.55606552512327\n"
          ]
        }
      ]
    }
  ]
}